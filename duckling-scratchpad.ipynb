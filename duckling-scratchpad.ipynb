{
 "cells": [
  {
   "cell_type": "code",
   "execution_count": 3,
   "metadata": {
    "ExecuteTime": {
     "end_time": "2022-09-06T00:12:57.295270Z",
     "start_time": "2022-09-06T00:12:57.104820Z"
    }
   },
   "outputs": [],
   "source": [
    "import requests"
   ]
  },
  {
   "cell_type": "code",
   "execution_count": 4,
   "metadata": {
    "ExecuteTime": {
     "end_time": "2022-09-06T00:12:57.321751Z",
     "start_time": "2022-09-06T00:12:57.302829Z"
    }
   },
   "outputs": [],
   "source": [
    "ipy = get_ipython()"
   ]
  },
  {
   "cell_type": "code",
   "execution_count": 5,
   "metadata": {
    "ExecuteTime": {
     "end_time": "2022-09-06T00:12:57.537095Z",
     "start_time": "2022-09-06T00:12:57.505496Z"
    }
   },
   "outputs": [
    {
     "data": {
      "text/plain": [
       "9"
      ]
     },
     "execution_count": 5,
     "metadata": {},
     "output_type": "execute_result"
    }
   ],
   "source": [
    "z = 3 + 6\n",
    "z"
   ]
  },
  {
   "cell_type": "code",
   "execution_count": 6,
   "metadata": {
    "ExecuteTime": {
     "end_time": "2022-09-06T00:12:57.695090Z",
     "start_time": "2022-09-06T00:12:57.678226Z"
    }
   },
   "outputs": [],
   "source": [
    "x = list(range(10))\n",
    "j = 3"
   ]
  },
  {
   "cell_type": "code",
   "execution_count": 7,
   "metadata": {
    "ExecuteTime": {
     "end_time": "2022-09-06T00:12:58.097973Z",
     "start_time": "2022-09-06T00:12:58.072830Z"
    }
   },
   "outputs": [],
   "source": [
    "def manual_sort(nums):\n",
    "    for i in range(len(nums)):\n",
    "        for k in range(len(nums) - 1):\n",
    "            if nums[j] > nums[j + 1]:\n",
    "                nums[j + 1] = nums[j]\n",
    "                nums[j] = nums[j + 1]\n",
    "    return nums"
   ]
  },
  {
   "cell_type": "code",
   "execution_count": 8,
   "metadata": {
    "ExecuteTime": {
     "end_time": "2022-09-06T00:12:58.613176Z",
     "start_time": "2022-09-06T00:12:58.587071Z"
    }
   },
   "outputs": [
    {
     "data": {
      "text/plain": [
       "[3, 4, 5, 1, 2, 9, 7, 16]"
      ]
     },
     "execution_count": 8,
     "metadata": {},
     "output_type": "execute_result"
    }
   ],
   "source": [
    "manual_sort([3, 4, 5, 1, 2, 9, 7, 16])"
   ]
  },
  {
   "cell_type": "code",
   "execution_count": 9,
   "metadata": {
    "ExecuteTime": {
     "end_time": "2022-09-06T00:12:59.597364Z",
     "start_time": "2022-09-06T00:12:59.570306Z"
    }
   },
   "outputs": [
    {
     "data": {
      "text/plain": [
       "[(3292, 4, 'ipy = get_ipython()'),\n",
       " (3292, 5, 'z = 3 + 6\\nz'),\n",
       " (3292, 6, 'x = list(range(10))\\nj = 3'),\n",
       " (3292,\n",
       "  7,\n",
       "  'def manual_sort(nums):\\n    for i in range(len(nums)):\\n        for k in range(len(nums) - 1):\\n            if nums[j] > nums[j + 1]:\\n                nums[j + 1] = nums[j]\\n                nums[j] = nums[j + 1]\\n    return nums'),\n",
       " (3292, 8, 'manual_sort([3, 4, 5, 1, 2, 9, 7, 16])')]"
      ]
     },
     "execution_count": 9,
     "metadata": {},
     "output_type": "execute_result"
    }
   ],
   "source": [
    "list(ipy.history_manager.get_tail(5))"
   ]
  },
  {
   "cell_type": "code",
   "execution_count": 14,
   "metadata": {
    "ExecuteTime": {
     "end_time": "2022-09-06T00:13:25.639945Z",
     "start_time": "2022-09-06T00:13:25.610289Z"
    }
   },
   "outputs": [],
   "source": [
    "from IPython.core.magics.namespace import NamespaceMagics\n",
    "from htools import *"
   ]
  },
  {
   "cell_type": "code",
   "execution_count": 16,
   "metadata": {
    "ExecuteTime": {
     "end_time": "2022-09-06T00:13:44.041080Z",
     "start_time": "2022-09-06T00:13:44.006705Z"
    }
   },
   "outputs": [],
   "source": [
    "# {k: v for k, v in ipy.get_local_scope(0).items() if not is_ipy_name(k)}"
   ]
  },
  {
   "cell_type": "code",
   "execution_count": 17,
   "metadata": {
    "ExecuteTime": {
     "end_time": "2022-09-06T00:13:44.256807Z",
     "start_time": "2022-09-06T00:13:44.209167Z"
    }
   },
   "outputs": [
    {
     "name": "stdout",
     "output_type": "stream",
     "text": [
      "ABC\t AbstractAttrs\t Args\t AutoInit\t BZ2File\t BasicPipeline\t Callback\t ChainMap\t ContextDecorator\t \n",
      "Counted\t Counter\t DotDict\t FuzzyKeyDict\t IndexedDict\t Integral\t InvalidArgumentError\t Iterable\t LSHDict\t \n",
      "LambdaDict\t Lazy\t LazyChainMeta\t LazyChainable\t LoggerMixin\t MIMEImage\t MIMEMultipart\t MIMEText\t Mapping\t \n",
      "MinHash\t MinHashLSHForest\t MultiLogger\t NamespaceMagics\t OrderedDict\t OwnerAwareAttrsMixin\t Parameter\t Partial\t Path\t \n",
      "Pool\t PriorityQueue\t ReadOnly\t Results\t ReturningThread\t SENTINEL\t STD_LIB_GIST\t SaveableMixin\t Sequence\t \n",
      "Stopwatch\t Thread\t TimeExceededError\t Trie\t TrieNode\t VocabDict\t WeakSet\t abstractmethod\t add_docstring\t \n",
      "add_kwargs\t always_true\t amap\t ascii_letters\t assert_raises\t ast\t auto_repr\t autopep8\t block_timer\t \n",
      "bound_args\t cached_property\t callbacks\t camel2snake\t catch\t cd_root\t chain\t chainmethod\t check_output\t \n",
      "choice\t choices\t class_or_instancemethod\t config\t contextmanager\t copy\t copy_func\t core\t coroutine\t \n",
      "count_calls\t counted\t debug\t decorate_functions\t deepcopy\t defined_functions\t delegate\t deprecated\t dict_sum\t \n",
      "differences\t dispatch\t encoders\t eprint\t fallback\t fgrep\t flatten\t func_name\t function_interface\t \n",
      "fuzz\t gc\t get_credentials\t get_default_user\t get_module_docstring\t getattr_static\t getindex\t getmembers\t getmodule\t \n",
      "getsource\t handle\t handle_interrupt\t has_classmethod\t hasarg\t hashable\t hasstatic\t hdir\t heappop\t \n",
      "heappush\t hr\t hsplit\t identity\t ifnone\t immutify_defaults\t importlib\t in_standard_library\t inspect\t \n",
      "io\t ipy\t is_builtin\t is_classmethod\t is_ipy_name\t ismethod\t isstatic\t item\t j\t \n",
      "json\t kwargs_fallback\t lazychain\t listlike\t lmap\t load\t log_cmd\t log_stdout\t logging\t \n",
      "manual_sort\t mark\t max_key\t meta\t method_of\t mimetypes\t min_wait\t namedtuple\t ngrams\t \n",
      "np\t nsm\t os\t parallelize\t params\t partial\t pd_tools\t pickle\t pipe\t \n",
      "pkgutil\t print_object_sizes\t process\t quickmail\t random_str\t re\t redirect_stdout\t register_functions\t rename_params\t \n",
      "requests\t return_stdout\t rmvars\t run\t safe_map\t save\t select\t set_module_global\t set_module_globals\t \n",
      "set_summary\t shell\t signal\t signature\t sleepy_range\t smap\t smtplib\t snake2camel\t source_code\t \n",
      "spacer\t ssl\t structures\t sys\t tdir\t temporary_globals\t time\t timebox\t timebox_handler\t \n",
      "timeboxed\t timer\t to_camel\t to_snake\t tolist\t tqdm\t typecheck\t types\t update_wrapper\t \n",
      "url\t urllib\t validating_property\t valuecheck\t varname\t vcounts\t venumerate\t verbose_log\t warnings\t \n",
      "wn\t wrapmethods\t wraps\t x\t xor_none\t z\t \n"
     ]
    }
   ],
   "source": [
    "%who"
   ]
  },
  {
   "cell_type": "code",
   "execution_count": 18,
   "metadata": {
    "ExecuteTime": {
     "end_time": "2022-09-06T00:13:44.904442Z",
     "start_time": "2022-09-06T00:13:44.877211Z"
    }
   },
   "outputs": [],
   "source": [
    "nsm = NamespaceMagics(ipy)"
   ]
  },
  {
   "cell_type": "code",
   "execution_count": 19,
   "metadata": {
    "ExecuteTime": {
     "end_time": "2022-09-06T00:13:45.947407Z",
     "start_time": "2022-09-06T00:13:45.920515Z"
    }
   },
   "outputs": [
    {
     "name": "stdout",
     "output_type": "stream",
     "text": [
      "def foo(n):\n",
      "    print(type(nsm))\n",
      "    return x + 99\n"
     ]
    }
   ],
   "source": [
    "cell_text = \"\"\"def foo(n):\n",
    "    print(type(nsm))\n",
    "    return x + 99\"\"\"\n",
    "print(cell_text)"
   ]
  },
  {
   "cell_type": "code",
   "execution_count": 20,
   "metadata": {
    "ExecuteTime": {
     "end_time": "2022-09-06T00:13:47.068787Z",
     "start_time": "2022-09-06T00:13:47.035494Z"
    }
   },
   "outputs": [
    {
     "data": {
      "text/plain": [
       "{'x': [0, 1, 2, 3, 4, 5, 6, 7, 8, 9]}"
      ]
     },
     "execution_count": 20,
     "metadata": {},
     "output_type": "execute_result"
    }
   ],
   "source": [
    "{name: globals()[name] for name in nsm.who_ls() if name in cell_text.split()}"
   ]
  },
  {
   "cell_type": "code",
   "execution_count": 21,
   "metadata": {
    "ExecuteTime": {
     "end_time": "2022-09-06T00:13:48.984370Z",
     "start_time": "2022-09-06T00:13:48.958208Z"
    }
   },
   "outputs": [],
   "source": [
    "url = 'http://localhost:8889/duckling/ask'"
   ]
  },
  {
   "cell_type": "code",
   "execution_count": 22,
   "metadata": {
    "ExecuteTime": {
     "end_time": "2022-09-06T00:13:49.919294Z",
     "start_time": "2022-09-06T00:13:49.823225Z"
    }
   },
   "outputs": [],
   "source": [
    "r = requests.get(url)"
   ]
  },
  {
   "cell_type": "code",
   "execution_count": 23,
   "metadata": {
    "ExecuteTime": {
     "end_time": "2022-09-06T00:13:51.119496Z",
     "start_time": "2022-09-06T00:13:51.092721Z"
    }
   },
   "outputs": [
    {
     "data": {
      "text/plain": [
       "<Response [200]>"
      ]
     },
     "execution_count": 23,
     "metadata": {},
     "output_type": "execute_result"
    }
   ],
   "source": [
    "r"
   ]
  },
  {
   "cell_type": "code",
   "execution_count": 24,
   "metadata": {
    "ExecuteTime": {
     "end_time": "2022-09-06T00:13:53.356259Z",
     "start_time": "2022-09-06T00:13:53.331476Z"
    }
   },
   "outputs": [
    {
     "data": {
      "text/plain": [
       "b'<!DOCTYPE HTML>\\n<html>\\n\\n<head>\\n    <meta charset=\"utf-8\">\\n\\n    <title>Jupyter Notebook</title>\\n    <link id=\"favicon\" rel=\"shortcut icon\" type=\"image/x-icon\" href=\"/static/base/images/favicon.ico?v=50afa725b5de8b00030139d09b38620224d4e7dba47c07ef0e86d4643f30c9bfe6bb7e1a4a1c561aa32834480909a4b6fe7cd1e17f7159330b6b5914bf45a880\">\\n    <meta http-equiv=\"X-UA-Compatible\" content=\"IE=edge\" />\\n    <link rel=\"stylesheet\" href=\"/static/components/jquery-ui/themes/smoothness/jquery-ui.min.css?v=fb45616eef2c454960f91fcd2a04efeda84cfacccf0c5d741ba2793dc1dbd6d3ab01aaae6485222945774c7d7a9a2e9fb87e0d8ef1ea96893aa6906147a371bb\" type=\"text/css\" />\\n    <link rel=\"stylesheet\" href=\"/static/components/jquery-typeahead/dist/jquery.typeahead.min.css?v=5edf53bf6bb9c3b1ddafd8594825a7e2ed621f19423e569c985162742f63911c09eba2c529f8fb47aebf27fafdfe287d563347f58c1126b278189a18871b6a9a\" type=\"text/css\" />\\n    <meta name=\"viewport\" content=\"width=device-width, initial-scale=1.0\">\\n    \\n    \\n\\n    <link rel=\"stylesheet\" href=\"/static/style/style.min.css?v=56dfd556850eb17b7998c6828467598a322b41593edc758739c66cb2c3fea98f23d0dd8bf8b9b0f5d67bb976a50e4c34f789fe640cbb440fa089e1bf5ec170bd\" type=\"text/css\"/>\\n    \\n<link rel=\"stylesheet\" href=\"/static/auth/css/override.css?v=7d24c52c4d63c7ed3ca286c051f232acd6a5ee3ed2aa32f56bea22ef20a2e3d184a638aad5602a39e8d5ef9a66ed93fdbaf80cf979948a947bab117618bd6486\" type=\"text/css\" />\\n\\n    <link rel=\"stylesheet\" href=\"/custom/custom.css\" type=\"text/css\" />\\n    <script src=\"/static/components/es6-promise/promise.min.js?v=bea335d74136a63ae1b5130f5ac9a50c6256a5f435e6e09fef599491a84d834a8b0f011ca3eaaca3b4ab6a2da2d3e1191567a2f171e60da1d10e5b9d52f84184\" type=\"text/javascript\" charset=\"utf-8\"></script>\\n    <script src=\"/static/components/react/react.production.min.js?v=9a0aaf84a316c8bedd6c2ff7d5b5e0a13f8f84ec02442346cba0b842c6c81a6bf6176e64f3675c2ebf357cb5bb048e0b527bd39377c95681d22468da3d5de735\" type=\"text/javascript\"></script>\\n    <script src=\"/static/components/react/react-dom.production.min.js?v=6fc58c1c4736868ff84f57bd8b85f2bdb985993a9392718f3b4af4bfa10fb4efba2b4ddd68644bd2a8daf0619a3844944c9c43f8528364a1aa6fc01ec1b8ae84\" type=\"text/javascript\"></script>\\n    <script src=\"/static/components/create-react-class/index.js?v=894ad57246e682b4cfbe7cd5e408dcd6b38d06af4de4f3425991e2676fdc2ef1732cbd19903104198878ae77de12a1996de3e7da3a467fb226bdda8f4618faec\" type=\"text/javascript\"></script>\\n    <script src=\"/static/components/requirejs/require.js?v=d37b48bb2137faa0ab98157e240c084dd5b1b5e74911723aa1d1f04c928c2a03dedf922d049e4815f7e5a369faa2e6b6a1000aae958b7953b5cc60411154f593\" type=\"text/javascript\" charset=\"utf-8\"></script>\\n    <script>\\n      require.config({\\n          \\n          urlArgs: \"v=20220902214603\",\\n          \\n          baseUrl: \\'/static/\\',\\n          paths: {\\n            \\'auth/js/main\\': \\'auth/js/main.min\\',\\n            custom : \\'/custom\\',\\n            nbextensions : \\'/nbextensions\\',\\n            kernelspecs : \\'/kernelspecs\\',\\n            underscore : \\'components/underscore/underscore-min\\',\\n            backbone : \\'components/backbone/backbone-min\\',\\n            jed: \\'components/jed/jed\\',\\n            jquery: \\'components/jquery/jquery.min\\',\\n            json: \\'components/requirejs-plugins/src/json\\',\\n            text: \\'components/requirejs-text/text\\',\\n            bootstrap: \\'components/bootstrap/dist/js/bootstrap.min\\',\\n            bootstraptour: \\'components/bootstrap-tour/build/js/bootstrap-tour.min\\',\\n            \\'jquery-ui\\': \\'components/jquery-ui/jquery-ui.min\\',\\n            moment: \\'components/moment/min/moment-with-locales\\',\\n            codemirror: \\'components/codemirror\\',\\n            termjs: \\'components/xterm.js/xterm\\',\\n            typeahead: \\'components/jquery-typeahead/dist/jquery.typeahead.min\\',\\n          },\\n          map: { // for backward compatibility\\n              \"*\": {\\n                  \"jqueryui\": \"jquery-ui\",\\n              }\\n          },\\n          shim: {\\n            typeahead: {\\n              deps: [\"jquery\"],\\n              exports: \"typeahead\"\\n            },\\n            underscore: {\\n              exports: \\'_\\'\\n            },\\n            backbone: {\\n              deps: [\"underscore\", \"jquery\"],\\n              exports: \"Backbone\"\\n            },\\n            bootstrap: {\\n              deps: [\"jquery\"],\\n              exports: \"bootstrap\"\\n            },\\n            bootstraptour: {\\n              deps: [\"bootstrap\"],\\n              exports: \"Tour\"\\n            },\\n            \"jquery-ui\": {\\n              deps: [\"jquery\"],\\n              exports: \"$\"\\n            }\\n          },\\n          waitSeconds: 30,\\n      });\\n\\n      require.config({\\n          map: {\\n              \\'*\\':{\\n                \\'contents\\': \\'services/contents\\',\\n              }\\n          }\\n      });\\n\\n      // error-catching custom.js shim.\\n      define(\"custom\", function (require, exports, module) {\\n          try {\\n              var custom = require(\\'custom/custom\\');\\n              console.debug(\\'loaded custom.js\\');\\n              return custom;\\n          } catch (e) {\\n              console.error(\"error loading custom.js\", e);\\n              return {};\\n          }\\n      })\\n\\n    document.nbjs_translations = {\"domain\": \"nbjs\", \"locale_data\": {\"nbjs\": {\"\": {\"domain\": \"nbjs\"}}}};\\n    document.documentElement.lang = navigator.language.toLowerCase();\\n    </script>\\n\\n    \\n    \\n\\n</head>\\n\\n<body class=\"\"\\n \\n  \\n \\ndir=\"ltr\">\\n\\n<noscript>\\n    <div id=\\'noscript\\'>\\n      Jupyter Notebook requires JavaScript.<br>\\n      Please enable it to proceed. \\n  </div>\\n</noscript>\\n\\n<div id=\"header\" role=\"navigation\" aria-label=\"Top Menu\">\\n  <div id=\"header-container\" class=\"container\">\\n  <div id=\"ipython_notebook\" class=\"nav navbar-brand\"><a href=\"/tree\" title=\\'dashboard\\'>\\n      <img src=\\'/static/base/images/logo.png?v=a2a176ee3cee251ffddf5fa21fe8e43727a9e5f87a06f9c91ad7b776d9e9d3d5e0159c16cc188a3965e00375fb4bc336c16067c688f5040c0c2d4bfdb852a9e4\\' alt=\\'Jupyter Notebook\\'/>\\n  </a></div>\\n\\n  \\n  \\n  \\n  \\n  \\n  \\n\\n\\n  \\n  \\n  </div>\\n  <div class=\"header-bar\"></div>\\n\\n  \\n  \\n</div>\\n\\n<div id=\"site\">\\n\\n\\n<div id=\"ipython-main-app\" class=\"container\">\\n\\n    \\n    \\n    <div class=\"row\">\\n    <div class=\"navbar col-sm-8\">\\n      <div class=\"navbar-inner\">\\n        <div class=\"container\">\\n          <div class=\"center-nav\">\\n            <form action=\"/login?next=%2Fduckling%2Fask\" method=\"post\" class=\"navbar-form pull-left\">\\n              <input type=\"hidden\" name=\"_xsrf\" value=\"2|397baab8|972c54015d4d3496cddf5a09bd55df60|1662423229\"/>\\n              \\n                <label for=\"password_input\"><strong>Password or token:</strong></label>\\n              \\n              <input type=\"password\" name=\"password\" id=\"password_input\" class=\"form-control\">\\n              <button type=\"submit\" class=\"btn btn-default\" id=\"login_submit\">Log in</button>\\n            </form>\\n          </div>\\n        </div>\\n      </div>\\n    </div>\\n    </div>\\n    \\n    \\n    \\n    \\n    <div class=\"col-sm-6 col-sm-offset-3 text-left rendered_html\">\\n      <h3>\\n        Token authentication is enabled\\n      </h3>\\n      <p>\\n        If no password has been configured, you need to open the notebook\\n        server with its login token in the URL, or paste it above.\\n        This requirement will be lifted if you\\n        <b><a href=\\'https://jupyter-notebook.readthedocs.io/en/stable/public_server.html\\'>\\n            enable a password</a></b>.\\n      </p>\\n      <p>\\n        The command:\\n        <pre>jupyter notebook list</pre>\\n        will show you the URLs of running servers with their tokens,\\n        which you can copy and paste into your browser. For example:\\n      </p>\\n      <pre>Currently running servers:\\nhttp://localhost:8888/?token=c8de56fa... :: /Users/you/notebooks\\n</pre>\\n      <p>\\n        or you can paste just the token value into the password field on this\\n        page.\\n      </p>\\n      <p>\\n        See\\n        <b><a\\n         href=\\'https://jupyter-notebook.readthedocs.io/en/stable/public_server.html\\'>\\n                the documentation on how to enable a password</a>\\n        </b>\\n        in place of token authentication,\\n        if you would like to avoid dealing with random tokens.\\n      </p>\\n      <p>\\n        Cookies are required for authenticated access to notebooks.\\n      </p>\\n      \\n        <h3>Setup a Password</h3>\\n        <p> You can also setup a password by entering your token and a new password\\n        on the fields below:</p>\\n        <form action=\"/login?next=%2Fduckling%2Fask\" method=\"post\" class=\"\">\\n                <input type=\"hidden\" name=\"_xsrf\" value=\"2|397baab8|972c54015d4d3496cddf5a09bd55df60|1662423229\"/>\\n          <div class=\"form-group\">\\n            <label for=\"token_input\"><h4>Token</h4></label>\\n            <input type=\"password\" name=\"password\" id=\"token_input\" class=\"form-control\">\\n          </div>\\n          <div class=\"form-group\">\\n            <label for=\"new_password_input\"><h4>New Password</h4></label>\\n            <input type=\"password\" name=\"new_password\" id=\"new_password_input\" class=\"form-control\" required>\\n          </div>\\n          <div class=\"form-group\">\\n            <button type=\"submit\" class=\"btn btn-default\" id=\"login_new_pass_submit\">Log in and set new password</button>\\n          </div>\\n        </form>\\n      \\n\\n    </div>\\n    \\n    \\n</div>\\n\\n\\n</div>\\n\\n\\n\\n\\n\\n\\n\\n\\n<script type=\"text/javascript\">\\n  require([\"auth/js/main\"], function (auth) {\\n    auth.login_main();\\n  });\\n</script>\\n\\n\\n\\n<script type=\\'text/javascript\\'>\\n  function _remove_token_from_url() {\\n    if (window.location.search.length <= 1) {\\n      return;\\n    }\\n    var search_parameters = window.location.search.slice(1).split(\\'&\\');\\n    for (var i = 0; i < search_parameters.length; i++) {\\n      if (search_parameters[i].split(\\'=\\')[0] === \\'token\\') {\\n        // remote token from search parameters\\n        search_parameters.splice(i, 1);\\n        var new_search = \\'\\';\\n        if (search_parameters.length) {\\n          new_search = \\'?\\' + search_parameters.join(\\'&\\');\\n        }\\n        var new_url = window.location.origin + \\n                      window.location.pathname + \\n                      new_search + \\n                      window.location.hash;\\n        window.history.replaceState({}, \"\", new_url);\\n        return;\\n      }\\n    }\\n  }\\n  _remove_token_from_url();\\n</script>\\n</body>\\n\\n</html>'"
      ]
     },
     "execution_count": 24,
     "metadata": {},
     "output_type": "execute_result"
    }
   ],
   "source": [
    "r.content"
   ]
  },
  {
   "cell_type": "code",
   "execution_count": null,
   "metadata": {},
   "outputs": [],
   "source": []
  }
 ],
 "metadata": {
  "kernelspec": {
   "display_name": "Python 3",
   "language": "python",
   "name": "python3"
  },
  "language_info": {
   "codemirror_mode": {
    "name": "ipython",
    "version": 3
   },
   "file_extension": ".py",
   "mimetype": "text/x-python",
   "name": "python",
   "nbconvert_exporter": "python",
   "pygments_lexer": "ipython3",
   "version": "3.7.3"
  }
 },
 "nbformat": 4,
 "nbformat_minor": 2
}
