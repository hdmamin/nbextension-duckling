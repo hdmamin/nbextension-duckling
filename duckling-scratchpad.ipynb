{
 "cells": [
  {
   "cell_type": "code",
   "execution_count": 1,
   "metadata": {
    "ExecuteTime": {
     "end_time": "2022-09-01T20:46:23.384787Z",
     "start_time": "2022-09-01T20:46:23.339326Z"
    }
   },
   "outputs": [],
   "source": [
    "ipy = get_ipython()"
   ]
  },
  {
   "cell_type": "code",
   "execution_count": 2,
   "metadata": {
    "ExecuteTime": {
     "end_time": "2022-09-01T20:46:23.497284Z",
     "start_time": "2022-09-01T20:46:23.416433Z"
    }
   },
   "outputs": [
    {
     "data": {
      "text/plain": [
       "9"
      ]
     },
     "execution_count": 2,
     "metadata": {},
     "output_type": "execute_result"
    }
   ],
   "source": [
    "z = 3 + 6\n",
    "z"
   ]
  },
  {
   "cell_type": "code",
   "execution_count": 3,
   "metadata": {
    "ExecuteTime": {
     "end_time": "2022-09-01T20:46:23.549026Z",
     "start_time": "2022-09-01T20:46:23.512138Z"
    }
   },
   "outputs": [],
   "source": [
    "x = list(range(10))\n",
    "j = 3"
   ]
  },
  {
   "cell_type": "code",
   "execution_count": 4,
   "metadata": {
    "ExecuteTime": {
     "end_time": "2022-09-01T20:46:23.583285Z",
     "start_time": "2022-09-01T20:46:23.553690Z"
    }
   },
   "outputs": [],
   "source": [
    "def manual_sort(nums):\n",
    "    for i in range(len(nums)):\n",
    "        for k in range(len(nums) - 1):\n",
    "            if nums[j] > nums[j + 1]:\n",
    "                nums[j + 1] = nums[j]\n",
    "                nums[j] = nums[j + 1]\n",
    "    return nums"
   ]
  },
  {
   "cell_type": "code",
   "execution_count": 5,
   "metadata": {
    "ExecuteTime": {
     "end_time": "2022-09-01T20:46:23.658923Z",
     "start_time": "2022-09-01T20:46:23.616142Z"
    }
   },
   "outputs": [
    {
     "data": {
      "text/plain": [
       "[3, 4, 5, 1, 2, 9, 7, 16]"
      ]
     },
     "execution_count": 5,
     "metadata": {},
     "output_type": "execute_result"
    }
   ],
   "source": [
    "manual_sort([3, 4, 5, 1, 2, 9, 7, 16])"
   ]
  },
  {
   "cell_type": "code",
   "execution_count": 6,
   "metadata": {
    "ExecuteTime": {
     "end_time": "2022-09-01T20:39:59.004604Z",
     "start_time": "2022-09-01T20:39:58.984094Z"
    }
   },
   "outputs": [
    {
     "data": {
      "text/plain": [
       "[(3278, 1, 'ipy = get_ipython()'),\n",
       " (3278, 2, 'z = 3 + 6\\nz'),\n",
       " (3278, 3, 'x = list(range(10))\\nj = 3'),\n",
       " (3278,\n",
       "  4,\n",
       "  'def manual_sort(nums):\\n    for i in range(len(nums)):\\n        for k in range(len(nums) - 1):\\n            if nums[j] > nums[j + 1]:\\n                nums[j + 1] = nums[j]\\n                nums[j] = nums[j + 1]\\n    return nums'),\n",
       " (3278, 5, 'manual_sort([3, 4, 5, 1, 2, 9, 7, 16])')]"
      ]
     },
     "execution_count": 6,
     "metadata": {},
     "output_type": "execute_result"
    }
   ],
   "source": [
    "list(ipy.history_manager.get_tail(5))"
   ]
  },
  {
   "cell_type": "code",
   "execution_count": 11,
   "metadata": {
    "ExecuteTime": {
     "end_time": "2022-08-28T21:14:55.362448Z",
     "start_time": "2022-08-28T21:14:55.335832Z"
    }
   },
   "outputs": [],
   "source": [
    "from htools import *"
   ]
  },
  {
   "cell_type": "markdown",
   "metadata": {},
   "source": []
  },
  {
   "cell_type": "raw",
   "metadata": {
    "ExecuteTime": {
     "end_time": "2022-08-28T21:14:55.900998Z",
     "start_time": "2022-08-28T21:14:55.875712Z"
    }
   },
   "source": [
    "# {k: v for k, v in ipy.get_local_scope(0).items() if not is_ipy_name(k)}"
   ]
  },
  {
   "cell_type": "code",
   "execution_count": 13,
   "metadata": {
    "ExecuteTime": {
     "end_time": "2022-08-28T21:14:57.350591Z",
     "start_time": "2022-08-28T21:14:57.311338Z"
    }
   },
   "outputs": [
    {
     "name": "stdout",
     "output_type": "stream",
     "text": [
      "ABC\t AbstractAttrs\t Args\t AutoInit\t BZ2File\t BasicPipeline\t Callback\t ChainMap\t ContextDecorator\t \n",
      "Counted\t Counter\t DotDict\t FuzzyKeyDict\t IndexedDict\t Integral\t InvalidArgumentError\t Iterable\t LSHDict\t \n",
      "LambdaDict\t Lazy\t LazyChainMeta\t LazyChainable\t LoggerMixin\t MIMEImage\t MIMEMultipart\t MIMEText\t Mapping\t \n",
      "MinHash\t MinHashLSHForest\t MultiLogger\t OrderedDict\t OwnerAwareAttrsMixin\t Parameter\t Partial\t Path\t Pool\t \n",
      "PriorityQueue\t ReadOnly\t Results\t ReturningThread\t SENTINEL\t STD_LIB_GIST\t SaveableMixin\t Sequence\t Stopwatch\t \n",
      "Thread\t TimeExceededError\t Trie\t TrieNode\t VocabDict\t WeakSet\t abstractmethod\t add_docstring\t add_kwargs\t \n",
      "always_true\t amap\t ascii_letters\t assert_raises\t ast\t auto_repr\t autopep8\t block_timer\t bound_args\t \n",
      "cached_property\t callbacks\t camel2snake\t catch\t cd_root\t chain\t chainmethod\t check_output\t choice\t \n",
      "choices\t class_or_instancemethod\t config\t contextmanager\t copy\t copy_func\t core\t coroutine\t count_calls\t \n",
      "counted\t debug\t decorate_functions\t deepcopy\t defined_functions\t delegate\t deprecated\t dict_sum\t differences\t \n",
      "dispatch\t encoders\t eprint\t fallback\t fgrep\t flatten\t foo\t func_name\t function_interface\t \n",
      "fuzz\t gc\t get_credentials\t get_default_user\t get_module_docstring\t getattr_static\t getindex\t getmembers\t getmodule\t \n",
      "getsource\t handle\t handle_interrupt\t has_classmethod\t hasarg\t hashable\t hasstatic\t hdir\t heappop\t \n",
      "heappush\t hr\t hsplit\t identity\t ifnone\t immutify_defaults\t importlib\t in_standard_library\t inspect\t \n",
      "io\t ipy\t is_builtin\t is_classmethod\t is_ipy_name\t ismethod\t isstatic\t item\t json\t \n",
      "kwargs_fallback\t lazychain\t listlike\t lmap\t load\t log_cmd\t log_stdout\t logging\t mark\t \n",
      "max_key\t meta\t method_of\t mimetypes\t min_wait\t namedtuple\t ngrams\t np\t os\t \n",
      "parallelize\t params\t partial\t pd_tools\t pickle\t pipe\t pkgutil\t print_object_sizes\t process\t \n",
      "quickmail\t random_str\t re\t redirect_stdout\t register_functions\t rename_params\t return_stdout\t rmvars\t run\t \n",
      "safe_map\t save\t select\t set_module_global\t set_module_globals\t set_summary\t shell\t signal\t signature\t \n",
      "sleepy_range\t smap\t smtplib\t snake2camel\t source_code\t spacer\t ssl\t structures\t sys\t \n",
      "tdir\t temporary_globals\t time\t timebox\t timebox_handler\t timeboxed\t timer\t to_camel\t to_snake\t \n",
      "tolist\t tqdm\t typecheck\t types\t update_wrapper\t urllib\t validating_property\t valuecheck\t varname\t \n",
      "vcounts\t venumerate\t verbose_log\t warnings\t wn\t wrapmethods\t wraps\t x\t xor_none\t \n",
      "\n"
     ]
    }
   ],
   "source": [
    "%who"
   ]
  },
  {
   "cell_type": "code",
   "execution_count": 15,
   "metadata": {
    "ExecuteTime": {
     "end_time": "2022-08-28T21:15:27.124382Z",
     "start_time": "2022-08-28T21:15:27.077888Z"
    }
   },
   "outputs": [],
   "source": [
    "from IPython.core.magics.namespace import NamespaceMagics"
   ]
  },
  {
   "cell_type": "code",
   "execution_count": 24,
   "metadata": {
    "ExecuteTime": {
     "end_time": "2022-08-28T21:18:05.933260Z",
     "start_time": "2022-08-28T21:18:05.892566Z"
    }
   },
   "outputs": [],
   "source": [
    "nsm = NamespaceMagics(ipy)"
   ]
  },
  {
   "cell_type": "code",
   "execution_count": 34,
   "metadata": {
    "ExecuteTime": {
     "end_time": "2022-08-28T21:22:10.571845Z",
     "start_time": "2022-08-28T21:22:10.537701Z"
    }
   },
   "outputs": [
    {
     "name": "stdout",
     "output_type": "stream",
     "text": [
      "def foo(n):\n",
      "    print(type(nsm))\n",
      "    return x + 99\n"
     ]
    }
   ],
   "source": [
    "cell_text = \"\"\"def foo(n):\n",
    "    print(type(nsm))\n",
    "    return x + 99\"\"\"\n",
    "print(cell_text)"
   ]
  },
  {
   "cell_type": "code",
   "execution_count": 35,
   "metadata": {
    "ExecuteTime": {
     "end_time": "2022-08-28T21:22:11.421832Z",
     "start_time": "2022-08-28T21:22:11.392023Z"
    }
   },
   "outputs": [
    {
     "data": {
      "text/plain": [
       "{'x': 9}"
      ]
     },
     "execution_count": 35,
     "metadata": {},
     "output_type": "execute_result"
    }
   ],
   "source": [
    "{name: globals()[name] for name in nsm.who_ls() if name in cell_text.split()}"
   ]
  },
  {
   "cell_type": "code",
   "execution_count": null,
   "metadata": {},
   "outputs": [],
   "source": []
  }
 ],
 "metadata": {
  "kernelspec": {
   "display_name": "Python 3",
   "language": "python",
   "name": "python3"
  },
  "language_info": {
   "codemirror_mode": {
    "name": "ipython",
    "version": 3
   },
   "file_extension": ".py",
   "mimetype": "text/x-python",
   "name": "python",
   "nbconvert_exporter": "python",
   "pygments_lexer": "ipython3",
   "version": "3.7.3"
  }
 },
 "nbformat": 4,
 "nbformat_minor": 2
}
