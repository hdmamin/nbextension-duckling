{
 "cells": [
  {
   "cell_type": "code",
   "execution_count": 52,
   "metadata": {
    "ExecuteTime": {
     "end_time": "2022-09-07T00:13:08.326454Z",
     "start_time": "2022-09-07T00:13:08.278666Z"
    }
   },
   "outputs": [],
   "source": [
    "import requests\n",
    "import sys"
   ]
  },
  {
   "cell_type": "code",
   "execution_count": 2,
   "metadata": {
    "ExecuteTime": {
     "end_time": "2022-09-06T23:47:49.036090Z",
     "start_time": "2022-09-06T23:47:49.018521Z"
    }
   },
   "outputs": [],
   "source": [
    "ipy = get_ipython()"
   ]
  },
  {
   "cell_type": "code",
   "execution_count": 3,
   "metadata": {
    "ExecuteTime": {
     "end_time": "2022-09-06T23:47:49.223221Z",
     "start_time": "2022-09-06T23:47:49.194571Z"
    }
   },
   "outputs": [
    {
     "data": {
      "text/plain": [
       "9"
      ]
     },
     "execution_count": 3,
     "metadata": {},
     "output_type": "execute_result"
    }
   ],
   "source": [
    "z = 3 + 6\n",
    "z"
   ]
  },
  {
   "cell_type": "code",
   "execution_count": 4,
   "metadata": {
    "ExecuteTime": {
     "end_time": "2022-09-06T23:47:49.397577Z",
     "start_time": "2022-09-06T23:47:49.376527Z"
    }
   },
   "outputs": [],
   "source": [
    "x = list(range(10))\n",
    "j = 3"
   ]
  },
  {
   "cell_type": "code",
   "execution_count": 5,
   "metadata": {
    "ExecuteTime": {
     "end_time": "2022-09-06T23:47:49.589445Z",
     "start_time": "2022-09-06T23:47:49.568589Z"
    }
   },
   "outputs": [],
   "source": [
    "def manual_sort(nums):\n",
    "    for i in range(len(nums)):\n",
    "        for k in range(len(nums) - 1):\n",
    "            if nums[j] > nums[j + 1]:\n",
    "                nums[j + 1] = nums[j]\n",
    "                nums[j] = nums[j + 1]\n",
    "    return nums"
   ]
  },
  {
   "cell_type": "code",
   "execution_count": 6,
   "metadata": {
    "ExecuteTime": {
     "end_time": "2022-09-06T23:47:50.030076Z",
     "start_time": "2022-09-06T23:47:49.990561Z"
    }
   },
   "outputs": [
    {
     "data": {
      "text/plain": [
       "[3, 4, 5, 1, 2, 9, 7, 16]"
      ]
     },
     "execution_count": 6,
     "metadata": {},
     "output_type": "execute_result"
    }
   ],
   "source": [
    "manual_sort([3, 4, 5, 1, 2, 9, 7, 16])"
   ]
  },
  {
   "cell_type": "code",
   "execution_count": 7,
   "metadata": {
    "ExecuteTime": {
     "end_time": "2022-09-06T23:47:50.414085Z",
     "start_time": "2022-09-06T23:47:50.381243Z"
    }
   },
   "outputs": [
    {
     "data": {
      "text/plain": [
       "[(3295, 2, 'ipy = get_ipython()'),\n",
       " (3295, 3, 'z = 3 + 6\\nz'),\n",
       " (3295, 4, 'x = list(range(10))\\nj = 3'),\n",
       " (3295,\n",
       "  5,\n",
       "  'def manual_sort(nums):\\n    for i in range(len(nums)):\\n        for k in range(len(nums) - 1):\\n            if nums[j] > nums[j + 1]:\\n                nums[j + 1] = nums[j]\\n                nums[j] = nums[j + 1]\\n    return nums'),\n",
       " (3295, 6, 'manual_sort([3, 4, 5, 1, 2, 9, 7, 16])')]"
      ]
     },
     "execution_count": 7,
     "metadata": {},
     "output_type": "execute_result"
    }
   ],
   "source": [
    "list(ipy.history_manager.get_tail(5))"
   ]
  },
  {
   "cell_type": "code",
   "execution_count": 8,
   "metadata": {
    "ExecuteTime": {
     "end_time": "2022-09-06T23:47:51.270494Z",
     "start_time": "2022-09-06T23:47:50.537412Z"
    }
   },
   "outputs": [],
   "source": [
    "from IPython.core.magics.namespace import NamespaceMagics\n",
    "from htools import *"
   ]
  },
  {
   "cell_type": "code",
   "execution_count": 9,
   "metadata": {
    "ExecuteTime": {
     "end_time": "2022-09-06T23:47:51.298168Z",
     "start_time": "2022-09-06T23:47:51.272993Z"
    }
   },
   "outputs": [],
   "source": [
    "# {k: v for k, v in ipy.get_local_scope(0).items() if not is_ipy_name(k)}"
   ]
  },
  {
   "cell_type": "code",
   "execution_count": 10,
   "metadata": {
    "ExecuteTime": {
     "end_time": "2022-09-06T23:47:51.691634Z",
     "start_time": "2022-09-06T23:47:51.634375Z"
    }
   },
   "outputs": [
    {
     "name": "stdout",
     "output_type": "stream",
     "text": [
      "ABC\t AbstractAttrs\t Args\t AutoInit\t BZ2File\t BasicPipeline\t Callback\t ChainMap\t ContextDecorator\t \n",
      "Counted\t Counter\t DotDict\t FuzzyKeyDict\t IndexedDict\t Integral\t InvalidArgumentError\t Iterable\t LSHDict\t \n",
      "LambdaDict\t Lazy\t LazyChainMeta\t LazyChainable\t LoggerMixin\t MIMEImage\t MIMEMultipart\t MIMEText\t Mapping\t \n",
      "MinHash\t MinHashLSHForest\t MultiLogger\t NamespaceMagics\t OrderedDict\t OwnerAwareAttrsMixin\t Parameter\t Partial\t Path\t \n",
      "Pool\t PriorityQueue\t ReadOnly\t Results\t ReturningThread\t SENTINEL\t STD_LIB_GIST\t SaveableMixin\t Sequence\t \n",
      "Stopwatch\t Thread\t TimeExceededError\t Trie\t TrieNode\t VocabDict\t WeakSet\t abstractmethod\t add_docstring\t \n",
      "add_kwargs\t always_true\t amap\t ascii_letters\t assert_raises\t ast\t auto_repr\t autopep8\t block_timer\t \n",
      "bound_args\t cached_property\t callbacks\t camel2snake\t catch\t cd_root\t chain\t chainmethod\t check_output\t \n",
      "choice\t choices\t class_or_instancemethod\t config\t contextmanager\t copy\t copy_func\t core\t coroutine\t \n",
      "count_calls\t counted\t debug\t decorate_functions\t deepcopy\t defined_functions\t delegate\t deprecated\t dict_sum\t \n",
      "differences\t dispatch\t encoders\t eprint\t fallback\t fgrep\t flatten\t func_name\t function_interface\t \n",
      "fuzz\t gc\t get_credentials\t get_default_user\t get_module_docstring\t getattr_static\t getindex\t getmembers\t getmodule\t \n",
      "getsource\t handle\t handle_interrupt\t has_classmethod\t hasarg\t hashable\t hasstatic\t hdir\t heappop\t \n",
      "heappush\t hr\t hsplit\t identity\t ifnone\t immutify_defaults\t importlib\t in_standard_library\t inspect\t \n",
      "io\t ipy\t is_builtin\t is_classmethod\t is_ipy_name\t ismethod\t isstatic\t item\t j\t \n",
      "json\t kwargs_fallback\t lazychain\t listlike\t lmap\t load\t log_cmd\t log_stdout\t logging\t \n",
      "manual_sort\t mark\t max_key\t meta\t method_of\t mimetypes\t min_wait\t namedtuple\t ngrams\t \n",
      "np\t os\t parallelize\t params\t partial\t pd_tools\t pickle\t pipe\t pkgutil\t \n",
      "print_object_sizes\t process\t quickmail\t random_str\t re\t redirect_stdout\t register_functions\t rename_params\t requests\t \n",
      "return_stdout\t rmvars\t run\t safe_map\t save\t select\t set_module_global\t set_module_globals\t set_summary\t \n",
      "shell\t signal\t signature\t sleepy_range\t smap\t smtplib\t snake2camel\t source_code\t spacer\t \n",
      "ssl\t structures\t sys\t tdir\t temporary_globals\t time\t timebox\t timebox_handler\t timeboxed\t \n",
      "timer\t to_camel\t to_snake\t tolist\t tqdm\t typecheck\t types\t update_wrapper\t urllib\t \n",
      "validating_property\t valuecheck\t varname\t vcounts\t venumerate\t verbose_log\t warnings\t wn\t wrapmethods\t \n",
      "wraps\t x\t xor_none\t z\t \n"
     ]
    }
   ],
   "source": [
    "%who"
   ]
  },
  {
   "cell_type": "code",
   "execution_count": 11,
   "metadata": {
    "ExecuteTime": {
     "end_time": "2022-09-06T23:47:52.202732Z",
     "start_time": "2022-09-06T23:47:52.177214Z"
    }
   },
   "outputs": [],
   "source": [
    "nsm = NamespaceMagics(ipy)"
   ]
  },
  {
   "cell_type": "code",
   "execution_count": 12,
   "metadata": {
    "ExecuteTime": {
     "end_time": "2022-09-06T23:47:53.190140Z",
     "start_time": "2022-09-06T23:47:53.150780Z"
    }
   },
   "outputs": [
    {
     "name": "stdout",
     "output_type": "stream",
     "text": [
      "def foo(n):\n",
      "    print(type(nsm))\n",
      "    return x + 99\n"
     ]
    }
   ],
   "source": [
    "cell_text = \"\"\"def foo(n):\n",
    "    print(type(nsm))\n",
    "    return x + 99\"\"\"\n",
    "print(cell_text)"
   ]
  },
  {
   "cell_type": "code",
   "execution_count": 13,
   "metadata": {
    "ExecuteTime": {
     "end_time": "2022-09-06T23:47:53.657012Z",
     "start_time": "2022-09-06T23:47:53.614599Z"
    }
   },
   "outputs": [
    {
     "data": {
      "text/plain": [
       "{'x': [0, 1, 2, 3, 4, 5, 6, 7, 8, 9]}"
      ]
     },
     "execution_count": 13,
     "metadata": {},
     "output_type": "execute_result"
    }
   ],
   "source": [
    "{name: globals()[name] for name in nsm.who_ls() if name in cell_text.split()}"
   ]
  },
  {
   "cell_type": "code",
   "execution_count": 14,
   "metadata": {
    "ExecuteTime": {
     "end_time": "2022-09-06T23:47:54.191104Z",
     "start_time": "2022-09-06T23:47:54.164525Z"
    }
   },
   "outputs": [],
   "source": [
    "url = 'http://localhost:8889/duckling/ask'"
   ]
  },
  {
   "cell_type": "code",
   "execution_count": 15,
   "metadata": {
    "ExecuteTime": {
     "end_time": "2022-09-06T23:48:00.078426Z",
     "start_time": "2022-09-06T23:47:56.409192Z"
    }
   },
   "outputs": [],
   "source": [
    "r = requests.get(url)"
   ]
  },
  {
   "cell_type": "code",
   "execution_count": 16,
   "metadata": {
    "ExecuteTime": {
     "end_time": "2022-09-06T23:48:01.433301Z",
     "start_time": "2022-09-06T23:48:01.403244Z"
    }
   },
   "outputs": [
    {
     "data": {
      "text/plain": [
       "<Response [200]>"
      ]
     },
     "execution_count": 16,
     "metadata": {},
     "output_type": "execute_result"
    }
   ],
   "source": [
    "r"
   ]
  },
  {
   "cell_type": "code",
   "execution_count": 17,
   "metadata": {
    "ExecuteTime": {
     "end_time": "2022-09-06T23:48:02.060442Z",
     "start_time": "2022-09-06T23:48:02.027663Z"
    }
   },
   "outputs": [
    {
     "data": {
      "text/plain": [
       "b\"THIS IS A CODE SNIPPET FROM A JUPYTER NOTEBOOK THAT IS NOT WORKING AS EXPECTED. HELP THE DEVELOPER DEBUG IT. FIRST READ THE DEVELOPER'S QUESTION, THEN EXAMINE THE SNIPPET OF CODE THAT IS CAUSING THE ISSUE AND LOOK AT THE VALUES OF THE GLOBAL VARIABLES IN THE NOTEBOOK. FINALLY, EXPLAIN WHAT THE PROBLEM IS AND INSTRUCT THE DEVELOPER ON HOW TO FIX IT. USE SIMPLE LANGUAGE A BEGINNING PROGRAMMER COULD UNDERSTAND.\\n\\nDEVELOPER'S QUESTION:\\nWHY DOES THIS CODE RAISE AN ERROR?\\n\\nCURRENT CODE SNIPPET:\\nDEF FOO(X):\\n    RETURN 1 / X\\n\\nGLOBAL VARIABLES:\\n{}\\n\\nEXPLANATION AND SUGGESTED FIX:\""
      ]
     },
     "execution_count": 17,
     "metadata": {},
     "output_type": "execute_result"
    }
   ],
   "source": [
    "r.content"
   ]
  },
  {
   "cell_type": "code",
   "execution_count": 72,
   "metadata": {
    "ExecuteTime": {
     "end_time": "2022-09-07T00:21:47.087522Z",
     "start_time": "2022-09-07T00:21:47.049068Z"
    }
   },
   "outputs": [
    {
     "data": {
      "text/plain": [
       "2040.749316429"
      ]
     },
     "execution_count": 72,
     "metadata": {},
     "output_type": "execute_result"
    }
   ],
   "source": [
    "start = time.perf_counter()\n",
    "start"
   ]
  },
  {
   "cell_type": "code",
   "execution_count": 73,
   "metadata": {
    "ExecuteTime": {
     "end_time": "2022-09-07T00:21:47.202418Z",
     "start_time": "2022-09-07T00:21:47.103363Z"
    },
    "run_control": {
     "marked": false
    }
   },
   "outputs": [
    {
     "name": "stdout",
     "output_type": "stream",
     "text": [
      "0.06832303900000625\n",
      "[TIMER]: Block executed in 0.047 seconds.\n",
      "0.04912716400008321\n",
      "0.11745020300008946\n"
     ]
    }
   ],
   "source": [
    "# No output printed until the end.\n",
    "start2 = time.perf_counter()\n",
    "print(start2 - start, flush=True)\n",
    "with block_timer():\n",
    "    r = requests.get(url, stream=True)\n",
    "end = time.perf_counter() \n",
    "print(end - start2, flush=True)\n",
    "print(end - start, flush=True)\n",
    "# with block_timer():\n",
    "#     for i, row in enumerate(r.iter_content()):\n",
    "#         print(row.decode(), end='', flush=True)\n",
    "#         if not i: start = time.perf_counter()"
   ]
  },
  {
   "cell_type": "code",
   "execution_count": 74,
   "metadata": {
    "ExecuteTime": {
     "end_time": "2022-09-07T00:21:47.248895Z",
     "start_time": "2022-09-07T00:21:47.208299Z"
    }
   },
   "outputs": [
    {
     "data": {
      "text/plain": [
       "0.1603527560000657"
      ]
     },
     "execution_count": 74,
     "metadata": {},
     "output_type": "execute_result"
    }
   ],
   "source": [
    "time.perf_counter() - start"
   ]
  },
  {
   "cell_type": "code",
   "execution_count": 77,
   "metadata": {
    "ExecuteTime": {
     "end_time": "2022-09-07T00:22:01.268277Z",
     "start_time": "2022-09-07T00:22:01.219339Z"
    }
   },
   "outputs": [
    {
     "data": {
      "text/plain": [
       "\"THIS IS A CODE SNIPPET FROM A JUPYTER NOTEBOOK THAT IS NOT WORKING AS EXPECTED. HELP THE DEVELOPER DEBUG IT. FIRST READ THE DEVELOPER'S QUESTION, THEN EXAMINE THE SNIPPET OF CODE THAT IS CAUSING THE ISSUE AND LOOK AT THE VALUES OF THE GLOBAL VARIABLES IN THE NOTEBOOK. FINALLY, EXPLAIN WHAT THE PROBLEM IS AND INSTRUCT THE DEVELOPER ON HOW TO FIX IT. USE SIMPLE LANGUAGE A BEGINNING PROGRAMMER COULD UNDERSTAND.\\n\\nDEVELOPER'S QUESTION:\\nWHY DOES THIS CODE RAISE AN ERROR?\\n\\nCURRENT CODE SNIPPET:\\nDEF FOO(X):\\n    RETURN 1 / X\\n\\nGLOBAL VARIABLES:\\n{}\\n\\nEXPLANATION AND SUGGESTED FIX:\""
      ]
     },
     "execution_count": 77,
     "metadata": {},
     "output_type": "execute_result"
    }
   ],
   "source": [
    "r.text"
   ]
  },
  {
   "cell_type": "code",
   "execution_count": 30,
   "metadata": {
    "ExecuteTime": {
     "end_time": "2022-09-06T23:57:48.262689Z",
     "start_time": "2022-09-06T23:57:44.545029Z"
    },
    "run_control": {
     "marked": false
    }
   },
   "outputs": [
    {
     "name": "stdout",
     "output_type": "stream",
     "text": [
      "THIS\n",
      " IS\n",
      " A\n",
      " CODE\n",
      " SNIPPET\n",
      " FROM\n",
      " A\n",
      " JUPYTER\n",
      " NOTEBOOK\n",
      " THAT\n",
      " IS\n",
      " NOT\n",
      " WORKING\n",
      " AS\n",
      " EXPECTED\n",
      ".\n",
      " HELP\n",
      " THE\n",
      " DEVELOPER\n",
      " DEBUG\n",
      " IT\n",
      ".\n",
      " FIRST\n",
      " READ\n",
      " THE\n",
      " DEVELOPER\n",
      "'\n",
      "S\n",
      " QUESTION\n",
      ",\n",
      " THEN\n",
      " EXAMINE\n",
      " THE\n",
      " SNIPPET\n",
      " OF\n",
      " CODE\n",
      " THAT\n",
      " IS\n",
      " CAUSING\n",
      " THE\n",
      " ISSUE\n",
      " AND\n",
      " LOOK\n",
      " AT\n",
      " THE\n",
      " VALUES\n",
      " OF\n",
      " THE\n",
      " GLOBAL\n",
      " VARIABLES\n",
      " IN\n",
      " THE\n",
      " NOTEBOOK\n",
      ".\n",
      " FINALLY\n",
      ",\n",
      " EXPLAIN\n",
      " WHAT\n",
      " THE\n",
      " PROBLEM\n",
      " IS\n",
      " AND\n",
      " INSTRUCT\n",
      " THE\n",
      " DEVELOPER\n",
      " ON\n",
      " HOW\n",
      " TO\n",
      " FIX\n",
      " IT\n",
      ".\n",
      " USE\n",
      " SIMPLE\n",
      " LANGUAGE\n",
      " A\n",
      " BEGINNING\n",
      " PROGRAMMER\n",
      " COULD\n",
      " UNDERSTAND\n",
      ".\n",
      "\n",
      "\n",
      "\n",
      "\n",
      "DEVELOPER\n",
      "'\n",
      "S\n",
      " QUESTION\n",
      ":\n",
      "\n",
      "\n",
      "WHY\n",
      " DOES\n",
      " THIS\n",
      " CODE\n",
      " RAISE\n",
      " AN\n",
      " ERROR\n",
      "?\n",
      "\n",
      "\n",
      "\n",
      "\n",
      "CURRENT\n",
      " CODE\n",
      " SNIPPET\n",
      ":\n",
      "\n",
      "\n",
      "DEF\n",
      " FOO\n",
      "(\n",
      "X\n",
      "):\n",
      "\n",
      "   \n",
      " RETURN\n",
      " 1\n",
      " /\n",
      " X\n",
      "\n",
      "\n",
      "\n",
      "\n",
      "GLOBAL\n",
      " VARIABLES\n",
      ":\n",
      "\n",
      "\n",
      "{}\n",
      "\n",
      "\n",
      "\n",
      "\n",
      "EXPLANATION\n",
      " AND\n",
      " SUGGESTED\n",
      " FIX\n",
      ":\n"
     ]
    },
    {
     "data": {
      "text/plain": [
       "3.5972412170000325"
      ]
     },
     "execution_count": 30,
     "metadata": {},
     "output_type": "execute_result"
    }
   ],
   "source": [
    "with requests.get(url, stream=True) as r:\n",
    "    for i, row in enumerate(r.iter_content()):\n",
    "        print(row.decode(), flush=True)\n",
    "        if not i: start = time.perf_counter()\n",
    "time.perf_counter() - start"
   ]
  },
  {
   "cell_type": "code",
   "execution_count": 80,
   "metadata": {
    "ExecuteTime": {
     "end_time": "2022-09-07T00:24:35.911112Z",
     "start_time": "2022-09-07T00:24:32.244456Z"
    }
   },
   "outputs": [
    {
     "name": "stdout",
     "output_type": "stream",
     "text": [
      "Before r\n",
      "After r\n",
      "b'THIS'\n",
      "b' IS'\n",
      "b' A'\n",
      "b' CODE'\n",
      "b' SNIPPET'\n",
      "b' FROM'\n",
      "b' A'\n",
      "b' JUPYTER'\n",
      "b' NOTEBOOK'\n",
      "b' THAT'\n",
      "b' IS'\n",
      "b' NOT'\n",
      "b' WORKING'\n",
      "b' AS'\n",
      "b' EXPECTED'\n",
      "b'.'\n",
      "b' HELP'\n",
      "b' THE'\n",
      "b' DEVELOPER'\n",
      "b' DEBUG'\n",
      "b' IT'\n",
      "b'.'\n",
      "b' FIRST'\n",
      "b' READ'\n",
      "b' THE'\n",
      "b' DEVELOPER'\n",
      "b\"'\"\n",
      "b'S'\n",
      "b' QUESTION'\n",
      "b','\n",
      "b' THEN'\n",
      "b' EXAMINE'\n",
      "b' THE'\n",
      "b' SNIPPET'\n",
      "b' OF'\n",
      "b' CODE'\n",
      "b' THAT'\n",
      "b' IS'\n",
      "b' CAUSING'\n",
      "b' THE'\n",
      "b' ISSUE'\n",
      "b' AND'\n",
      "b' LOOK'\n",
      "b' AT'\n",
      "b' THE'\n",
      "b' VALUES'\n",
      "b' OF'\n",
      "b' THE'\n",
      "b' GLOBAL'\n",
      "b' VARIABLES'\n",
      "b' IN'\n",
      "b' THE'\n",
      "b' NOTEBOOK'\n",
      "b'.'\n",
      "b' FINALLY'\n",
      "b','\n",
      "b' EXPLAIN'\n",
      "b' WHAT'\n",
      "b' THE'\n",
      "b' PROBLEM'\n",
      "b' IS'\n",
      "b' AND'\n",
      "b' INSTRUCT'\n",
      "b' THE'\n",
      "b' DEVELOPER'\n",
      "b' ON'\n",
      "b' HOW'\n",
      "b' TO'\n",
      "b' FIX'\n",
      "b' IT'\n",
      "b'.'\n",
      "b' USE'\n",
      "b' SIMPLE'\n",
      "b' LANGUAGE'\n",
      "b' A'\n",
      "b' BEGINNING'\n",
      "b' PROGRAMMER'\n",
      "b' COULD'\n",
      "b' UNDERSTAND'\n",
      "b'.'\n",
      "b'\\n'\n",
      "b'\\n'\n",
      "b'DEVELOPER'\n",
      "b\"'\"\n",
      "b'S'\n",
      "b' QUESTION'\n",
      "b':'\n",
      "b'\\n'\n",
      "b'WHY'\n",
      "b' DOES'\n",
      "b' THIS'\n",
      "b' CODE'\n",
      "b' RAISE'\n",
      "b' AN'\n",
      "b' ERROR'\n",
      "b'?'\n",
      "b'\\n'\n",
      "b'\\n'\n",
      "b'CURRENT'\n",
      "b' CODE'\n",
      "b' SNIPPET'\n",
      "b':'\n",
      "b'\\n'\n",
      "b'DEF'\n",
      "b' FOO'\n",
      "b'('\n",
      "b'X'\n",
      "b'):'\n",
      "b'\\n   '\n",
      "b' RETURN'\n",
      "b' 1'\n",
      "b' /'\n",
      "b' X'\n",
      "b'\\n'\n",
      "b'\\n'\n",
      "b'GLOBAL'\n",
      "b' VARIABLES'\n",
      "b':'\n",
      "b'\\n'\n",
      "b'{}'\n",
      "b'\\n'\n",
      "b'\\n'\n",
      "b'EXPLANATION'\n",
      "b' AND'\n",
      "b' SUGGESTED'\n",
      "b' FIX'\n",
      "b':'\n"
     ]
    }
   ],
   "source": [
    "print('Before r', flush=True)\n",
    "r = requests.get(url, stream=True)\n",
    "print('After r', flush=True)\n",
    "for row in r:\n",
    "    print(row)\n",
    "r.close()"
   ]
  },
  {
   "cell_type": "code",
   "execution_count": null,
   "metadata": {},
   "outputs": [],
   "source": []
  }
 ],
 "metadata": {
  "kernelspec": {
   "display_name": "Python 3",
   "language": "python",
   "name": "python3"
  },
  "language_info": {
   "codemirror_mode": {
    "name": "ipython",
    "version": 3
   },
   "file_extension": ".py",
   "mimetype": "text/x-python",
   "name": "python",
   "nbconvert_exporter": "python",
   "pygments_lexer": "ipython3",
   "version": "3.7.3"
  }
 },
 "nbformat": 4,
 "nbformat_minor": 2
}
