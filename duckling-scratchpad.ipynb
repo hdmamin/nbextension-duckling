{
 "cells": [
  {
   "cell_type": "code",
   "execution_count": 2,
   "metadata": {
    "ExecuteTime": {
     "end_time": "2022-08-27T05:42:51.223822Z",
     "start_time": "2022-08-27T05:42:51.198292Z"
    }
   },
   "outputs": [
    {
     "data": {
      "text/plain": [
       "9"
      ]
     },
     "execution_count": 2,
     "metadata": {},
     "output_type": "execute_result"
    }
   ],
   "source": [
    "x = 3 + 6\n",
    "x"
   ]
  },
  {
   "cell_type": "code",
   "execution_count": 3,
   "metadata": {
    "ExecuteTime": {
     "end_time": "2022-08-27T05:42:51.710516Z",
     "start_time": "2022-08-27T05:42:51.691134Z"
    }
   },
   "outputs": [],
   "source": [
    "def foo(n):\n",
    "    return x + 99"
   ]
  },
  {
   "cell_type": "code",
   "execution_count": 3,
   "metadata": {
    "ExecuteTime": {
     "end_time": "2022-08-25T05:21:22.664516Z",
     "start_time": "2022-08-25T05:21:22.629748Z"
    }
   },
   "outputs": [],
   "source": [
    "ipy = get_ipython()"
   ]
  },
  {
   "cell_type": "code",
   "execution_count": 4,
   "metadata": {
    "ExecuteTime": {
     "end_time": "2022-08-25T05:19:41.614608Z",
     "start_time": "2022-08-25T05:19:41.580887Z"
    }
   },
   "outputs": [
    {
     "data": {
      "text/plain": [
       "[(3208, 20, \"hdir(sys.modules['__main__'])\"),\n",
       " (3208, 21, 'ipy.notebook'),\n",
       " (3209, 1, 'x = 3 + 6\\nx'),\n",
       " (3209, 2, 'def foo(n):\\n    return x + 99'),\n",
       " (3209, 3, 'ipy = get_ipython()')]"
      ]
     },
     "execution_count": 4,
     "metadata": {},
     "output_type": "execute_result"
    }
   ],
   "source": [
    "list(ipy.history_manager.get_tail(5))"
   ]
  },
  {
   "cell_type": "code",
   "execution_count": 5,
   "metadata": {
    "ExecuteTime": {
     "end_time": "2022-08-25T05:19:42.657876Z",
     "start_time": "2022-08-25T05:19:41.974182Z"
    }
   },
   "outputs": [],
   "source": [
    "from htools import *"
   ]
  },
  {
   "cell_type": "code",
   "execution_count": 6,
   "metadata": {
    "ExecuteTime": {
     "end_time": "2022-08-25T05:19:44.976716Z",
     "start_time": "2022-08-25T05:19:44.932983Z"
    }
   },
   "outputs": [],
   "source": [
    "# {k: v for k, v in ipy.get_local_scope(0).items() if not is_ipy_name(k)}"
   ]
  },
  {
   "cell_type": "code",
   "execution_count": null,
   "metadata": {},
   "outputs": [],
   "source": []
  }
 ],
 "metadata": {
  "kernelspec": {
   "display_name": "Python 3",
   "language": "python",
   "name": "python3"
  },
  "language_info": {
   "codemirror_mode": {
    "name": "ipython",
    "version": 3
   },
   "file_extension": ".py",
   "mimetype": "text/x-python",
   "name": "python",
   "nbconvert_exporter": "python",
   "pygments_lexer": "ipython3",
   "version": "3.7.3"
  }
 },
 "nbformat": 4,
 "nbformat_minor": 2
}
